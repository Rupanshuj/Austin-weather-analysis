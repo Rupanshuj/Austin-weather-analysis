{
 "cells": [
  {
   "cell_type": "code",
   "execution_count": 1,
   "metadata": {},
   "outputs": [
    {
     "data": {
      "text/html": [
       "<div>\n",
       "<style scoped>\n",
       "    .dataframe tbody tr th:only-of-type {\n",
       "        vertical-align: middle;\n",
       "    }\n",
       "\n",
       "    .dataframe tbody tr th {\n",
       "        vertical-align: top;\n",
       "    }\n",
       "\n",
       "    .dataframe thead th {\n",
       "        text-align: right;\n",
       "    }\n",
       "</style>\n",
       "<table border=\"1\" class=\"dataframe\">\n",
       "  <thead>\n",
       "    <tr style=\"text-align: right;\">\n",
       "      <th></th>\n",
       "      <th>13904</th>\n",
       "      <th>20110101</th>\n",
       "      <th>0053</th>\n",
       "      <th>12</th>\n",
       "      <th>OVC045</th>\n",
       "      <th></th>\n",
       "      <th>10.00</th>\n",
       "      <th>.1</th>\n",
       "      <th>.2</th>\n",
       "      <th>.3</th>\n",
       "      <th>...</th>\n",
       "      <th>.18</th>\n",
       "      <th>.19</th>\n",
       "      <th>29.95</th>\n",
       "      <th>.20</th>\n",
       "      <th>AA</th>\n",
       "      <th>.21</th>\n",
       "      <th>.22</th>\n",
       "      <th>.23</th>\n",
       "      <th>29.95.1</th>\n",
       "      <th>.24</th>\n",
       "    </tr>\n",
       "  </thead>\n",
       "  <tbody>\n",
       "    <tr>\n",
       "      <th>0</th>\n",
       "      <td>13904</td>\n",
       "      <td>20110101</td>\n",
       "      <td>153</td>\n",
       "      <td>12</td>\n",
       "      <td>OVC049</td>\n",
       "      <td></td>\n",
       "      <td>10.00</td>\n",
       "      <td></td>\n",
       "      <td></td>\n",
       "      <td></td>\n",
       "      <td>...</td>\n",
       "      <td></td>\n",
       "      <td></td>\n",
       "      <td>30.01</td>\n",
       "      <td></td>\n",
       "      <td>AA</td>\n",
       "      <td></td>\n",
       "      <td></td>\n",
       "      <td></td>\n",
       "      <td>30.02</td>\n",
       "      <td></td>\n",
       "    </tr>\n",
       "    <tr>\n",
       "      <th>1</th>\n",
       "      <td>13904</td>\n",
       "      <td>20110101</td>\n",
       "      <td>253</td>\n",
       "      <td>12</td>\n",
       "      <td>OVC060</td>\n",
       "      <td></td>\n",
       "      <td>10.00</td>\n",
       "      <td></td>\n",
       "      <td></td>\n",
       "      <td></td>\n",
       "      <td>...</td>\n",
       "      <td>030</td>\n",
       "      <td></td>\n",
       "      <td>30.01</td>\n",
       "      <td></td>\n",
       "      <td>AA</td>\n",
       "      <td></td>\n",
       "      <td></td>\n",
       "      <td></td>\n",
       "      <td>30.02</td>\n",
       "      <td></td>\n",
       "    </tr>\n",
       "    <tr>\n",
       "      <th>2</th>\n",
       "      <td>13904</td>\n",
       "      <td>20110101</td>\n",
       "      <td>353</td>\n",
       "      <td>12</td>\n",
       "      <td>OVC065</td>\n",
       "      <td></td>\n",
       "      <td>10.00</td>\n",
       "      <td></td>\n",
       "      <td></td>\n",
       "      <td></td>\n",
       "      <td>...</td>\n",
       "      <td></td>\n",
       "      <td></td>\n",
       "      <td>30.03</td>\n",
       "      <td></td>\n",
       "      <td>AA</td>\n",
       "      <td></td>\n",
       "      <td></td>\n",
       "      <td></td>\n",
       "      <td>30.04</td>\n",
       "      <td></td>\n",
       "    </tr>\n",
       "    <tr>\n",
       "      <th>3</th>\n",
       "      <td>13904</td>\n",
       "      <td>20110101</td>\n",
       "      <td>453</td>\n",
       "      <td>12</td>\n",
       "      <td>BKN070</td>\n",
       "      <td></td>\n",
       "      <td>10.00</td>\n",
       "      <td></td>\n",
       "      <td></td>\n",
       "      <td></td>\n",
       "      <td>...</td>\n",
       "      <td></td>\n",
       "      <td></td>\n",
       "      <td>30.04</td>\n",
       "      <td></td>\n",
       "      <td>AA</td>\n",
       "      <td></td>\n",
       "      <td></td>\n",
       "      <td></td>\n",
       "      <td>30.04</td>\n",
       "      <td></td>\n",
       "    </tr>\n",
       "    <tr>\n",
       "      <th>4</th>\n",
       "      <td>13904</td>\n",
       "      <td>20110101</td>\n",
       "      <td>553</td>\n",
       "      <td>12</td>\n",
       "      <td>BKN065</td>\n",
       "      <td></td>\n",
       "      <td>10.00</td>\n",
       "      <td></td>\n",
       "      <td></td>\n",
       "      <td></td>\n",
       "      <td>...</td>\n",
       "      <td>015</td>\n",
       "      <td></td>\n",
       "      <td>30.06</td>\n",
       "      <td></td>\n",
       "      <td>AA</td>\n",
       "      <td></td>\n",
       "      <td></td>\n",
       "      <td></td>\n",
       "      <td>30.06</td>\n",
       "      <td></td>\n",
       "    </tr>\n",
       "  </tbody>\n",
       "</table>\n",
       "<p>5 rows × 44 columns</p>\n",
       "</div>"
      ],
      "text/plain": [
       "   13904  20110101  0053  12  OVC045     10.00  .1  .2  .3  ...  .18  .19  \\\n",
       "0  13904  20110101   153  12  OVC049     10.00              ...             \n",
       "1  13904  20110101   253  12  OVC060     10.00              ...  030        \n",
       "2  13904  20110101   353  12  OVC065     10.00              ...             \n",
       "3  13904  20110101   453  12  BKN070     10.00              ...             \n",
       "4  13904  20110101   553  12  BKN065     10.00              ...  015        \n",
       "\n",
       "   29.95  .20  AA  .21  .22  .23 29.95.1  .24  \n",
       "0  30.01       AA                  30.02       \n",
       "1  30.01       AA                  30.02       \n",
       "2  30.03       AA                  30.04       \n",
       "3  30.04       AA                  30.04       \n",
       "4  30.06       AA                  30.06       \n",
       "\n",
       "[5 rows x 44 columns]"
      ]
     },
     "execution_count": 1,
     "metadata": {},
     "output_type": "execute_result"
    }
   ],
   "source": [
    "# Reading in a data file\n",
    "\n",
    "import pandas as pd\n",
    "df = pd.read_csv('E:/DataCamp/8. Pandas Foundations/5. Datasets/NOAA_QCLCD_2011_hourly_13904.txt')\n",
    "df.head()"
   ]
  },
  {
   "cell_type": "code",
   "execution_count": 2,
   "metadata": {},
   "outputs": [],
   "source": [
    "# Re-assigning column names"
   ]
  },
  {
   "cell_type": "code",
   "execution_count": 3,
   "metadata": {},
   "outputs": [],
   "source": [
    "# Column labels\n",
    "\n",
    "column_labels= 'Wban,date,Time,StationType,sky_condition,sky_conditionFlag,visibility,visibilityFlag,wx_and_obst_to_vision,wx_and_obst_to_visionFlag,dry_bulb_faren,dry_bulb_farenFlag,dry_bulb_cel,dry_bulb_celFlag,wet_bulb_faren,wet_bulb_farenFlag,wet_bulb_cel,wet_bulb_celFlag,dew_point_faren,dew_point_farenFlag,dew_point_cel,dew_point_celFlag,relative_humidity,relative_humidityFlag,wind_speed,wind_speedFlag,wind_direction,wind_directionFlag,value_for_wind_character,value_for_wind_characterFlag,station_pressure,station_pressureFlag,pressure_tendency,pressure_tendencyFlag,presschange,presschangeFlag,sea_level_pressure,sea_level_pressureFlag,record_type,hourly_precip,hourly_precipFlag,altimeter,altimeterFlag,junk'"
   ]
  },
  {
   "cell_type": "code",
   "execution_count": 4,
   "metadata": {},
   "outputs": [],
   "source": [
    "# Split on the comma to create a list: column_labels_list\n",
    "column_labels_list = column_labels.split(',')\n"
   ]
  },
  {
   "cell_type": "code",
   "execution_count": 5,
   "metadata": {},
   "outputs": [
    {
     "data": {
      "text/html": [
       "<div>\n",
       "<style scoped>\n",
       "    .dataframe tbody tr th:only-of-type {\n",
       "        vertical-align: middle;\n",
       "    }\n",
       "\n",
       "    .dataframe tbody tr th {\n",
       "        vertical-align: top;\n",
       "    }\n",
       "\n",
       "    .dataframe thead th {\n",
       "        text-align: right;\n",
       "    }\n",
       "</style>\n",
       "<table border=\"1\" class=\"dataframe\">\n",
       "  <thead>\n",
       "    <tr style=\"text-align: right;\">\n",
       "      <th></th>\n",
       "      <th>Wban</th>\n",
       "      <th>date</th>\n",
       "      <th>Time</th>\n",
       "      <th>StationType</th>\n",
       "      <th>sky_condition</th>\n",
       "      <th>sky_conditionFlag</th>\n",
       "      <th>visibility</th>\n",
       "      <th>visibilityFlag</th>\n",
       "      <th>wx_and_obst_to_vision</th>\n",
       "      <th>wx_and_obst_to_visionFlag</th>\n",
       "      <th>...</th>\n",
       "      <th>presschange</th>\n",
       "      <th>presschangeFlag</th>\n",
       "      <th>sea_level_pressure</th>\n",
       "      <th>sea_level_pressureFlag</th>\n",
       "      <th>record_type</th>\n",
       "      <th>hourly_precip</th>\n",
       "      <th>hourly_precipFlag</th>\n",
       "      <th>altimeter</th>\n",
       "      <th>altimeterFlag</th>\n",
       "      <th>junk</th>\n",
       "    </tr>\n",
       "  </thead>\n",
       "  <tbody>\n",
       "    <tr>\n",
       "      <th>0</th>\n",
       "      <td>13904</td>\n",
       "      <td>20110101</td>\n",
       "      <td>153</td>\n",
       "      <td>12</td>\n",
       "      <td>OVC049</td>\n",
       "      <td></td>\n",
       "      <td>10.00</td>\n",
       "      <td></td>\n",
       "      <td></td>\n",
       "      <td></td>\n",
       "      <td>...</td>\n",
       "      <td></td>\n",
       "      <td></td>\n",
       "      <td>30.01</td>\n",
       "      <td></td>\n",
       "      <td>AA</td>\n",
       "      <td></td>\n",
       "      <td></td>\n",
       "      <td></td>\n",
       "      <td>30.02</td>\n",
       "      <td></td>\n",
       "    </tr>\n",
       "    <tr>\n",
       "      <th>1</th>\n",
       "      <td>13904</td>\n",
       "      <td>20110101</td>\n",
       "      <td>253</td>\n",
       "      <td>12</td>\n",
       "      <td>OVC060</td>\n",
       "      <td></td>\n",
       "      <td>10.00</td>\n",
       "      <td></td>\n",
       "      <td></td>\n",
       "      <td></td>\n",
       "      <td>...</td>\n",
       "      <td>030</td>\n",
       "      <td></td>\n",
       "      <td>30.01</td>\n",
       "      <td></td>\n",
       "      <td>AA</td>\n",
       "      <td></td>\n",
       "      <td></td>\n",
       "      <td></td>\n",
       "      <td>30.02</td>\n",
       "      <td></td>\n",
       "    </tr>\n",
       "    <tr>\n",
       "      <th>2</th>\n",
       "      <td>13904</td>\n",
       "      <td>20110101</td>\n",
       "      <td>353</td>\n",
       "      <td>12</td>\n",
       "      <td>OVC065</td>\n",
       "      <td></td>\n",
       "      <td>10.00</td>\n",
       "      <td></td>\n",
       "      <td></td>\n",
       "      <td></td>\n",
       "      <td>...</td>\n",
       "      <td></td>\n",
       "      <td></td>\n",
       "      <td>30.03</td>\n",
       "      <td></td>\n",
       "      <td>AA</td>\n",
       "      <td></td>\n",
       "      <td></td>\n",
       "      <td></td>\n",
       "      <td>30.04</td>\n",
       "      <td></td>\n",
       "    </tr>\n",
       "    <tr>\n",
       "      <th>3</th>\n",
       "      <td>13904</td>\n",
       "      <td>20110101</td>\n",
       "      <td>453</td>\n",
       "      <td>12</td>\n",
       "      <td>BKN070</td>\n",
       "      <td></td>\n",
       "      <td>10.00</td>\n",
       "      <td></td>\n",
       "      <td></td>\n",
       "      <td></td>\n",
       "      <td>...</td>\n",
       "      <td></td>\n",
       "      <td></td>\n",
       "      <td>30.04</td>\n",
       "      <td></td>\n",
       "      <td>AA</td>\n",
       "      <td></td>\n",
       "      <td></td>\n",
       "      <td></td>\n",
       "      <td>30.04</td>\n",
       "      <td></td>\n",
       "    </tr>\n",
       "    <tr>\n",
       "      <th>4</th>\n",
       "      <td>13904</td>\n",
       "      <td>20110101</td>\n",
       "      <td>553</td>\n",
       "      <td>12</td>\n",
       "      <td>BKN065</td>\n",
       "      <td></td>\n",
       "      <td>10.00</td>\n",
       "      <td></td>\n",
       "      <td></td>\n",
       "      <td></td>\n",
       "      <td>...</td>\n",
       "      <td>015</td>\n",
       "      <td></td>\n",
       "      <td>30.06</td>\n",
       "      <td></td>\n",
       "      <td>AA</td>\n",
       "      <td></td>\n",
       "      <td></td>\n",
       "      <td></td>\n",
       "      <td>30.06</td>\n",
       "      <td></td>\n",
       "    </tr>\n",
       "  </tbody>\n",
       "</table>\n",
       "<p>5 rows × 44 columns</p>\n",
       "</div>"
      ],
      "text/plain": [
       "    Wban      date  Time  StationType sky_condition sky_conditionFlag  \\\n",
       "0  13904  20110101   153           12        OVC049                     \n",
       "1  13904  20110101   253           12        OVC060                     \n",
       "2  13904  20110101   353           12        OVC065                     \n",
       "3  13904  20110101   453           12        BKN070                     \n",
       "4  13904  20110101   553           12        BKN065                     \n",
       "\n",
       "  visibility visibilityFlag wx_and_obst_to_vision wx_and_obst_to_visionFlag  \\\n",
       "0      10.00                                                                  \n",
       "1      10.00                                                                  \n",
       "2      10.00                                                                  \n",
       "3      10.00                                                                  \n",
       "4      10.00                                                                  \n",
       "\n",
       "   ... presschange presschangeFlag sea_level_pressure sea_level_pressureFlag  \\\n",
       "0  ...                                          30.01                          \n",
       "1  ...         030                              30.01                          \n",
       "2  ...                                          30.03                          \n",
       "3  ...                                          30.04                          \n",
       "4  ...         015                              30.06                          \n",
       "\n",
       "  record_type hourly_precip hourly_precipFlag altimeter altimeterFlag junk  \n",
       "0          AA                                                   30.02       \n",
       "1          AA                                                   30.02       \n",
       "2          AA                                                   30.04       \n",
       "3          AA                                                   30.04       \n",
       "4          AA                                                   30.06       \n",
       "\n",
       "[5 rows x 44 columns]"
      ]
     },
     "execution_count": 5,
     "metadata": {},
     "output_type": "execute_result"
    }
   ],
   "source": [
    "# Assign the new column labels to the DataFrame: df.columns\n",
    "df.columns = column_labels_list\n",
    "df.head()"
   ]
  },
  {
   "cell_type": "code",
   "execution_count": 6,
   "metadata": {},
   "outputs": [],
   "source": [
    "#List of non necessary columns \n",
    "list_to_drop = ['sky_conditionFlag',\n",
    " 'visibilityFlag',\n",
    " 'wx_and_obst_to_vision',\n",
    " 'wx_and_obst_to_visionFlag',\n",
    " 'dry_bulb_farenFlag',\n",
    " 'dry_bulb_celFlag',\n",
    " 'wet_bulb_farenFlag',\n",
    " 'wet_bulb_celFlag',\n",
    " 'dew_point_farenFlag',\n",
    " 'dew_point_celFlag',\n",
    " 'relative_humidityFlag',\n",
    " 'wind_speedFlag',\n",
    " 'wind_directionFlag',\n",
    " 'value_for_wind_character',\n",
    " 'value_for_wind_characterFlag',\n",
    " 'station_pressureFlag',\n",
    " 'pressure_tendencyFlag',\n",
    " 'pressure_tendency',\n",
    " 'presschange',\n",
    " 'presschangeFlag',\n",
    " 'sea_level_pressureFlag',\n",
    " 'hourly_precip',\n",
    " 'hourly_precipFlag',\n",
    " 'altimeter',\n",
    " 'record_type',\n",
    " 'altimeterFlag',\n",
    " 'junk']"
   ]
  },
  {
   "cell_type": "code",
   "execution_count": 7,
   "metadata": {},
   "outputs": [],
   "source": [
    "# Remove the appropriate columns: df_dropped\n",
    "\n",
    "df_dropped = df.drop(list_to_drop,axis='columns')"
   ]
  },
  {
   "cell_type": "code",
   "execution_count": 8,
   "metadata": {},
   "outputs": [
    {
     "name": "stdout",
     "output_type": "stream",
     "text": [
      "    Wban      date  Time  StationType sky_condition visibility dry_bulb_faren  \\\n",
      "0  13904  20110101   153           12        OVC049      10.00             51   \n",
      "1  13904  20110101   253           12        OVC060      10.00             51   \n",
      "2  13904  20110101   353           12        OVC065      10.00             50   \n",
      "3  13904  20110101   453           12        BKN070      10.00             50   \n",
      "4  13904  20110101   553           12        BKN065      10.00             49   \n",
      "\n",
      "  dry_bulb_cel wet_bulb_faren wet_bulb_cel dew_point_faren dew_point_cel  \\\n",
      "0         10.6             37          3.0              14         -10.0   \n",
      "1         10.6             37          2.9              13         -10.6   \n",
      "2         10.0             38          3.1              17          -8.3   \n",
      "3         10.0             37          2.8              15          -9.4   \n",
      "4          9.4             37          2.8              17          -8.3   \n",
      "\n",
      "  relative_humidity wind_speed wind_direction station_pressure  \\\n",
      "0                23         10            340            29.49   \n",
      "1                22         15            010            29.49   \n",
      "2                27          7            350            29.51   \n",
      "3                25         11            020            29.51   \n",
      "4                28          6            010            29.53   \n",
      "\n",
      "  sea_level_pressure  \n",
      "0              30.01  \n",
      "1              30.01  \n",
      "2              30.03  \n",
      "3              30.04  \n",
      "4              30.06  \n"
     ]
    }
   ],
   "source": [
    "# Print the output of df_dropped.head()\n",
    "\n",
    "print(df_dropped.head())"
   ]
  },
  {
   "cell_type": "code",
   "execution_count": 9,
   "metadata": {},
   "outputs": [
    {
     "data": {
      "text/plain": [
       "0    20110101\n",
       "1    20110101\n",
       "2    20110101\n",
       "3    20110101\n",
       "4    20110101\n",
       "Name: date, dtype: object"
      ]
     },
     "execution_count": 9,
     "metadata": {},
     "output_type": "execute_result"
    }
   ],
   "source": [
    "# Convert the date column to string: df_dropped['date']\n",
    "\n",
    "df_dropped['date'] = df_dropped['date'].astype(str)\n",
    "df_dropped['date'].head()"
   ]
  },
  {
   "cell_type": "code",
   "execution_count": 10,
   "metadata": {},
   "outputs": [
    {
     "data": {
      "text/plain": [
       "0    0153\n",
       "1    0253\n",
       "2    0353\n",
       "3    0453\n",
       "4    0553\n",
       "Name: Time, dtype: object"
      ]
     },
     "execution_count": 10,
     "metadata": {},
     "output_type": "execute_result"
    }
   ],
   "source": [
    "# Pad leading zeros to the Time column: df_dropped['Time']\n",
    "\n",
    "df_dropped['Time'] = df_dropped['Time'].apply(lambda x:'{:0>4}'.format(x))\n",
    "df_dropped['Time'].head()"
   ]
  },
  {
   "cell_type": "code",
   "execution_count": 11,
   "metadata": {},
   "outputs": [
    {
     "data": {
      "text/plain": [
       "0    201101010153\n",
       "1    201101010253\n",
       "2    201101010353\n",
       "3    201101010453\n",
       "4    201101010553\n",
       "dtype: object"
      ]
     },
     "execution_count": 11,
     "metadata": {},
     "output_type": "execute_result"
    }
   ],
   "source": [
    "# Concatenate the new date and Time columns: date_string\n",
    "\n",
    "date_string = df_dropped['date']+df_dropped['Time']\n",
    "date_string.head()"
   ]
  },
  {
   "cell_type": "code",
   "execution_count": 12,
   "metadata": {},
   "outputs": [],
   "source": [
    "# Convert the date_string Series to datetime: date_times\n",
    "\n",
    "date_times = pd.to_datetime(date_string, format='%Y%m%d%H%M')"
   ]
  },
  {
   "cell_type": "code",
   "execution_count": 13,
   "metadata": {},
   "outputs": [],
   "source": [
    "# Set the index to be the new date_times container: df_clean\n",
    "\n",
    "df_clean = df_dropped.set_index(date_times)"
   ]
  },
  {
   "cell_type": "code",
   "execution_count": 14,
   "metadata": {},
   "outputs": [
    {
     "name": "stdout",
     "output_type": "stream",
     "text": [
      "                      Wban      date  Time  StationType sky_condition  \\\n",
      "2011-01-01 01:53:00  13904  20110101  0153           12        OVC049   \n",
      "2011-01-01 02:53:00  13904  20110101  0253           12        OVC060   \n",
      "2011-01-01 03:53:00  13904  20110101  0353           12        OVC065   \n",
      "2011-01-01 04:53:00  13904  20110101  0453           12        BKN070   \n",
      "2011-01-01 05:53:00  13904  20110101  0553           12        BKN065   \n",
      "\n",
      "                    visibility dry_bulb_faren dry_bulb_cel wet_bulb_faren  \\\n",
      "2011-01-01 01:53:00      10.00             51         10.6             37   \n",
      "2011-01-01 02:53:00      10.00             51         10.6             37   \n",
      "2011-01-01 03:53:00      10.00             50         10.0             38   \n",
      "2011-01-01 04:53:00      10.00             50         10.0             37   \n",
      "2011-01-01 05:53:00      10.00             49          9.4             37   \n",
      "\n",
      "                    wet_bulb_cel dew_point_faren dew_point_cel  \\\n",
      "2011-01-01 01:53:00          3.0              14         -10.0   \n",
      "2011-01-01 02:53:00          2.9              13         -10.6   \n",
      "2011-01-01 03:53:00          3.1              17          -8.3   \n",
      "2011-01-01 04:53:00          2.8              15          -9.4   \n",
      "2011-01-01 05:53:00          2.8              17          -8.3   \n",
      "\n",
      "                    relative_humidity wind_speed wind_direction  \\\n",
      "2011-01-01 01:53:00                23         10            340   \n",
      "2011-01-01 02:53:00                22         15            010   \n",
      "2011-01-01 03:53:00                27          7            350   \n",
      "2011-01-01 04:53:00                25         11            020   \n",
      "2011-01-01 05:53:00                28          6            010   \n",
      "\n",
      "                    station_pressure sea_level_pressure  \n",
      "2011-01-01 01:53:00            29.49              30.01  \n",
      "2011-01-01 02:53:00            29.49              30.01  \n",
      "2011-01-01 03:53:00            29.51              30.03  \n",
      "2011-01-01 04:53:00            29.51              30.04  \n",
      "2011-01-01 05:53:00            29.53              30.06  \n"
     ]
    }
   ],
   "source": [
    "# Print the output of df_clean.head()\n",
    "\n",
    "print(df_clean.head())"
   ]
  },
  {
   "cell_type": "code",
   "execution_count": 15,
   "metadata": {},
   "outputs": [],
   "source": [
    "# ---Cleaning the numeric columns ---"
   ]
  },
  {
   "cell_type": "code",
   "execution_count": 16,
   "metadata": {},
   "outputs": [],
   "source": [
    "# Convert the dry_bulb_faren column to numeric values: df_clean['dry_bulb_faren']\n",
    "\n",
    "df_clean['dry_bulb_faren'] = pd.to_numeric(df_clean['dry_bulb_faren'], errors='coerce')"
   ]
  },
  {
   "cell_type": "code",
   "execution_count": 17,
   "metadata": {},
   "outputs": [
    {
     "name": "stdout",
     "output_type": "stream",
     "text": [
      "2011-06-20 08:27:00     NaN\n",
      "2011-06-20 08:28:00     NaN\n",
      "2011-06-20 08:29:00     NaN\n",
      "2011-06-20 08:30:00     NaN\n",
      "2011-06-20 08:31:00     NaN\n",
      "2011-06-20 08:32:00     NaN\n",
      "2011-06-20 08:33:00     NaN\n",
      "2011-06-20 08:34:00     NaN\n",
      "2011-06-20 08:35:00     NaN\n",
      "2011-06-20 08:53:00    83.0\n",
      "Name: dry_bulb_faren, dtype: float64\n"
     ]
    }
   ],
   "source": [
    "# Print the transformed dry_bulb_faren temperature between 8 AM and 9 AM on June 20, 2011\n",
    "\n",
    "print(df_clean.loc['2011-6-20 8:00:00':'2011-6-20 9:00:00', 'dry_bulb_faren'])"
   ]
  },
  {
   "cell_type": "code",
   "execution_count": 18,
   "metadata": {},
   "outputs": [],
   "source": [
    "# Convert the wind_speed and dew_point_faren columns to numeric values\n",
    "\n",
    "df_clean['wind_speed'] = pd.to_numeric(df_clean['wind_speed'], errors='coerce')\n",
    "df_clean['dew_point_faren'] = pd.to_numeric(df_clean['dew_point_faren'], errors='coerce')"
   ]
  },
  {
   "cell_type": "code",
   "execution_count": 19,
   "metadata": {},
   "outputs": [],
   "source": [
    "#  ---Statistical exploratory data analysis---\n"
   ]
  },
  {
   "cell_type": "code",
   "execution_count": 20,
   "metadata": {},
   "outputs": [
    {
     "name": "stdout",
     "output_type": "stream",
     "text": [
      "72.0\n",
      "78.0\n",
      "48.0\n"
     ]
    }
   ],
   "source": [
    "# Print the median of the dry_bulb_faren column\n",
    "print(df_clean.dry_bulb_faren.median())\n",
    "\n",
    "# Print the median of the dry_bulb_faren column for the time range '2011-Apr':'2011-Jun'\n",
    "print(df_clean.loc['2011-Apr':'2011-Jun', 'dry_bulb_faren'].median())\n",
    "\n",
    "# Print the median of the dry_bulb_faren column for the month of January\n",
    "print(df_clean.loc['2011-Jan', 'dry_bulb_faren'].median())"
   ]
  },
  {
   "cell_type": "code",
   "execution_count": 21,
   "metadata": {},
   "outputs": [],
   "source": [
    "# Signal variance\n",
    "# to first resample df_clean and df_climate by day and aggregate the mean temperatures. \n",
    "# then extract the temperature related columns from each - 'dry_bulb_faren' in df_clean, and 'Temperature' in df_climate - as NumPy arrays and compute the difference."
   ]
  },
  {
   "cell_type": "code",
   "execution_count": 22,
   "metadata": {},
   "outputs": [
    {
     "data": {
      "text/html": [
       "<div>\n",
       "<style scoped>\n",
       "    .dataframe tbody tr th:only-of-type {\n",
       "        vertical-align: middle;\n",
       "    }\n",
       "\n",
       "    .dataframe tbody tr th {\n",
       "        vertical-align: top;\n",
       "    }\n",
       "\n",
       "    .dataframe thead th {\n",
       "        text-align: right;\n",
       "    }\n",
       "</style>\n",
       "<table border=\"1\" class=\"dataframe\">\n",
       "  <thead>\n",
       "    <tr style=\"text-align: right;\">\n",
       "      <th></th>\n",
       "      <th>Wban</th>\n",
       "      <th>StationType</th>\n",
       "      <th>dry_bulb_faren</th>\n",
       "      <th>dew_point_faren</th>\n",
       "      <th>wind_speed</th>\n",
       "    </tr>\n",
       "  </thead>\n",
       "  <tbody>\n",
       "    <tr>\n",
       "      <th>2011-01-01</th>\n",
       "      <td>13904</td>\n",
       "      <td>12</td>\n",
       "      <td>50.130435</td>\n",
       "      <td>20.739130</td>\n",
       "      <td>10.913043</td>\n",
       "    </tr>\n",
       "    <tr>\n",
       "      <th>2011-01-02</th>\n",
       "      <td>13904</td>\n",
       "      <td>12</td>\n",
       "      <td>39.416667</td>\n",
       "      <td>19.708333</td>\n",
       "      <td>4.166667</td>\n",
       "    </tr>\n",
       "    <tr>\n",
       "      <th>2011-01-03</th>\n",
       "      <td>13904</td>\n",
       "      <td>12</td>\n",
       "      <td>46.846154</td>\n",
       "      <td>35.500000</td>\n",
       "      <td>2.653846</td>\n",
       "    </tr>\n",
       "    <tr>\n",
       "      <th>2011-01-04</th>\n",
       "      <td>13904</td>\n",
       "      <td>12</td>\n",
       "      <td>53.367347</td>\n",
       "      <td>50.408163</td>\n",
       "      <td>2.510204</td>\n",
       "    </tr>\n",
       "    <tr>\n",
       "      <th>2011-01-05</th>\n",
       "      <td>13904</td>\n",
       "      <td>12</td>\n",
       "      <td>57.965517</td>\n",
       "      <td>40.068966</td>\n",
       "      <td>4.689655</td>\n",
       "    </tr>\n",
       "  </tbody>\n",
       "</table>\n",
       "</div>"
      ],
      "text/plain": [
       "             Wban  StationType  dry_bulb_faren  dew_point_faren  wind_speed\n",
       "2011-01-01  13904           12       50.130435        20.739130   10.913043\n",
       "2011-01-02  13904           12       39.416667        19.708333    4.166667\n",
       "2011-01-03  13904           12       46.846154        35.500000    2.653846\n",
       "2011-01-04  13904           12       53.367347        50.408163    2.510204\n",
       "2011-01-05  13904           12       57.965517        40.068966    4.689655"
      ]
     },
     "execution_count": 22,
     "metadata": {},
     "output_type": "execute_result"
    }
   ],
   "source": [
    "# Downsample df_clean by day and aggregate by mean: daily_mean_2011\n",
    "daily_mean_2011 = df_clean.resample('D').mean()\n",
    "\n",
    "# Extract the dry_bulb_faren column from daily_mean_2011 using .values: daily_temp_2011 (An array)\n",
    "daily_temp_2011 = daily_mean_2011['dry_bulb_faren'].values\n",
    "\n",
    "\n",
    "daily_mean_2011.head()"
   ]
  },
  {
   "cell_type": "code",
   "execution_count": 23,
   "metadata": {},
   "outputs": [],
   "source": [
    "# Sunny or cloudy\n",
    "# to use Boolean selection to filter for sunny and overcast days, and then compute the difference of the mean daily maximum temperatures between each type of day."
   ]
  },
  {
   "cell_type": "code",
   "execution_count": 24,
   "metadata": {},
   "outputs": [],
   "source": [
    "# Using df_clean, when is sky_condition 'CLR'?\n",
    "\n",
    "is_sky_clear = df_clean['sky_condition']=='CLR'"
   ]
  },
  {
   "cell_type": "code",
   "execution_count": 25,
   "metadata": {},
   "outputs": [
    {
     "data": {
      "text/plain": [
       "2011-01-01 01:53:00    False\n",
       "2011-01-01 02:53:00    False\n",
       "2011-01-01 03:53:00    False\n",
       "2011-01-01 04:53:00    False\n",
       "2011-01-01 05:53:00    False\n",
       "Name: sky_condition, dtype: bool"
      ]
     },
     "execution_count": 25,
     "metadata": {},
     "output_type": "execute_result"
    }
   ],
   "source": [
    "is_sky_clear.head()"
   ]
  },
  {
   "cell_type": "code",
   "execution_count": 26,
   "metadata": {},
   "outputs": [],
   "source": [
    "# Filter df_clean using is_sky_clear\n",
    "sunny = df_clean.loc[is_sky_clear]\n",
    "\n",
    "# Resample sunny by day then calculate the max\n",
    "sunny_daily_max = sunny.resample('D').max()"
   ]
  },
  {
   "cell_type": "code",
   "execution_count": 27,
   "metadata": {},
   "outputs": [
    {
     "data": {
      "text/html": [
       "<div>\n",
       "<style scoped>\n",
       "    .dataframe tbody tr th:only-of-type {\n",
       "        vertical-align: middle;\n",
       "    }\n",
       "\n",
       "    .dataframe tbody tr th {\n",
       "        vertical-align: top;\n",
       "    }\n",
       "\n",
       "    .dataframe thead th {\n",
       "        text-align: right;\n",
       "    }\n",
       "</style>\n",
       "<table border=\"1\" class=\"dataframe\">\n",
       "  <thead>\n",
       "    <tr style=\"text-align: right;\">\n",
       "      <th></th>\n",
       "      <th>Wban</th>\n",
       "      <th>date</th>\n",
       "      <th>Time</th>\n",
       "      <th>StationType</th>\n",
       "      <th>sky_condition</th>\n",
       "      <th>dry_bulb_faren</th>\n",
       "      <th>dry_bulb_cel</th>\n",
       "      <th>wet_bulb_faren</th>\n",
       "      <th>wet_bulb_cel</th>\n",
       "      <th>dew_point_faren</th>\n",
       "      <th>dew_point_cel</th>\n",
       "      <th>relative_humidity</th>\n",
       "      <th>wind_speed</th>\n",
       "      <th>wind_direction</th>\n",
       "      <th>station_pressure</th>\n",
       "      <th>sea_level_pressure</th>\n",
       "    </tr>\n",
       "  </thead>\n",
       "  <tbody>\n",
       "    <tr>\n",
       "      <th>2011-01-01</th>\n",
       "      <td>13904.0</td>\n",
       "      <td>20110101</td>\n",
       "      <td>2353</td>\n",
       "      <td>12.0</td>\n",
       "      <td>CLR</td>\n",
       "      <td>59.0</td>\n",
       "      <td>8.3</td>\n",
       "      <td>45</td>\n",
       "      <td>7.2</td>\n",
       "      <td>28.0</td>\n",
       "      <td>-6.1</td>\n",
       "      <td>53</td>\n",
       "      <td>16.0</td>\n",
       "      <td>360</td>\n",
       "      <td>29.78</td>\n",
       "      <td>30.33</td>\n",
       "    </tr>\n",
       "    <tr>\n",
       "      <th>2011-01-02</th>\n",
       "      <td>13904.0</td>\n",
       "      <td>20110102</td>\n",
       "      <td>2253</td>\n",
       "      <td>12.0</td>\n",
       "      <td>CLR</td>\n",
       "      <td>35.0</td>\n",
       "      <td>1.7</td>\n",
       "      <td>32</td>\n",
       "      <td>0.1</td>\n",
       "      <td>28.0</td>\n",
       "      <td>-7.2</td>\n",
       "      <td>76</td>\n",
       "      <td>8.0</td>\n",
       "      <td>360</td>\n",
       "      <td>29.82</td>\n",
       "      <td>30.38</td>\n",
       "    </tr>\n",
       "    <tr>\n",
       "      <th>2011-01-03</th>\n",
       "      <td>13904.0</td>\n",
       "      <td>20110103</td>\n",
       "      <td>0453</td>\n",
       "      <td>12.0</td>\n",
       "      <td>CLR</td>\n",
       "      <td>32.0</td>\n",
       "      <td>0.0</td>\n",
       "      <td>29</td>\n",
       "      <td>-1.9</td>\n",
       "      <td>26.0</td>\n",
       "      <td>-4.4</td>\n",
       "      <td>85</td>\n",
       "      <td>0.0</td>\n",
       "      <td>000</td>\n",
       "      <td>29.71</td>\n",
       "      <td>30.27</td>\n",
       "    </tr>\n",
       "    <tr>\n",
       "      <th>2011-01-04</th>\n",
       "      <td>NaN</td>\n",
       "      <td>NaN</td>\n",
       "      <td>NaN</td>\n",
       "      <td>NaN</td>\n",
       "      <td>NaN</td>\n",
       "      <td>NaN</td>\n",
       "      <td>NaN</td>\n",
       "      <td>NaN</td>\n",
       "      <td>NaN</td>\n",
       "      <td>NaN</td>\n",
       "      <td>NaN</td>\n",
       "      <td>NaN</td>\n",
       "      <td>NaN</td>\n",
       "      <td>NaN</td>\n",
       "      <td>NaN</td>\n",
       "      <td>NaN</td>\n",
       "    </tr>\n",
       "    <tr>\n",
       "      <th>2011-01-05</th>\n",
       "      <td>13904.0</td>\n",
       "      <td>20110105</td>\n",
       "      <td>2353</td>\n",
       "      <td>12.0</td>\n",
       "      <td>CLR</td>\n",
       "      <td>35.0</td>\n",
       "      <td>1.7</td>\n",
       "      <td>33</td>\n",
       "      <td>0.3</td>\n",
       "      <td>29.0</td>\n",
       "      <td>-1.7</td>\n",
       "      <td>79</td>\n",
       "      <td>0.0</td>\n",
       "      <td>000</td>\n",
       "      <td>29.54</td>\n",
       "      <td>30.08</td>\n",
       "    </tr>\n",
       "  </tbody>\n",
       "</table>\n",
       "</div>"
      ],
      "text/plain": [
       "               Wban      date  Time  StationType sky_condition  \\\n",
       "2011-01-01  13904.0  20110101  2353         12.0           CLR   \n",
       "2011-01-02  13904.0  20110102  2253         12.0           CLR   \n",
       "2011-01-03  13904.0  20110103  0453         12.0           CLR   \n",
       "2011-01-04      NaN       NaN   NaN          NaN           NaN   \n",
       "2011-01-05  13904.0  20110105  2353         12.0           CLR   \n",
       "\n",
       "            dry_bulb_faren dry_bulb_cel wet_bulb_faren wet_bulb_cel  \\\n",
       "2011-01-01            59.0          8.3             45          7.2   \n",
       "2011-01-02            35.0          1.7             32          0.1   \n",
       "2011-01-03            32.0          0.0             29         -1.9   \n",
       "2011-01-04             NaN          NaN            NaN          NaN   \n",
       "2011-01-05            35.0          1.7             33          0.3   \n",
       "\n",
       "            dew_point_faren dew_point_cel relative_humidity  wind_speed  \\\n",
       "2011-01-01             28.0          -6.1                53        16.0   \n",
       "2011-01-02             28.0          -7.2                76         8.0   \n",
       "2011-01-03             26.0          -4.4                85         0.0   \n",
       "2011-01-04              NaN           NaN               NaN         NaN   \n",
       "2011-01-05             29.0          -1.7                79         0.0   \n",
       "\n",
       "           wind_direction station_pressure sea_level_pressure  \n",
       "2011-01-01            360            29.78              30.33  \n",
       "2011-01-02            360            29.82              30.38  \n",
       "2011-01-03            000            29.71              30.27  \n",
       "2011-01-04            NaN              NaN                NaN  \n",
       "2011-01-05            000            29.54              30.08  "
      ]
     },
     "execution_count": 27,
     "metadata": {},
     "output_type": "execute_result"
    }
   ],
   "source": [
    "sunny_daily_max.head()"
   ]
  },
  {
   "cell_type": "code",
   "execution_count": 28,
   "metadata": {},
   "outputs": [],
   "source": [
    "# Weekly average temperature and visibility\n",
    "#  to plot the weekly average temperature and visibility as subplots"
   ]
  },
  {
   "cell_type": "code",
   "execution_count": 37,
   "metadata": {},
   "outputs": [
    {
     "name": "stdout",
     "output_type": "stream",
     "text": [
      "            dry_bulb_faren\n",
      "2011-01-02       44.659574\n",
      "2011-01-09       50.246637\n",
      "2011-01-16       41.103774\n",
      "2011-01-23       47.194313\n",
      "2011-01-30       53.486188\n",
      "                dry_bulb_faren\n",
      "dry_bulb_faren             1.0\n"
     ]
    },
    {
     "data": {
      "image/png": "[encoded data removed]",
      "text/plain": [
       "<Figure size 432x288 with 1 Axes>"
      ]
     },
     "metadata": {
      "needs_background": "light"
     },
     "output_type": "display_data"
    }
   ],
   "source": [
    "# Import matplotlib.pyplot as plt\n",
    "import matplotlib.pyplot as plt\n",
    "\n",
    "# Select the visibility and dry_bulb_faren columns and resample them: weekly_mean\n",
    "weekly_mean = df_clean[['visibility','dry_bulb_faren']].resample('W').mean()\n",
    "\n",
    "print(weekly_mean.head())\n",
    "\n",
    "# Print the output of weekly_mean.corr()\n",
    "print(weekly_mean.corr())\n",
    "\n",
    "# Plot weekly_mean with subplots=True\n",
    "weekly_mean.plot(subplots=True)\n",
    "plt.show()"
   ]
  },
  {
   "cell_type": "code",
   "execution_count": 30,
   "metadata": {},
   "outputs": [],
   "source": [
    "\n",
    "# Daily hours of clear sky\n"
   ]
  },
  {
   "cell_type": "code",
   "execution_count": 31,
   "metadata": {},
   "outputs": [],
   "source": [
    "# Using df_clean, when is sky_condition 'CLR'?\n",
    "is_sky_clear = df_clean['sky_condition'] == 'CLR'\n",
    "\n",
    "# Resample is_sky_clear by day\n",
    "resampled = is_sky_clear.resample('D')\n"
   ]
  },
  {
   "cell_type": "code",
   "execution_count": 32,
   "metadata": {},
   "outputs": [
    {
     "name": "stdout",
     "output_type": "stream",
     "text": [
      "DatetimeIndexResampler [freq=<Day>, axis=0, closed=left, label=left, convention=start, base=0]\n"
     ]
    }
   ],
   "source": [
    "print(resampled)"
   ]
  },
  {
   "cell_type": "code",
   "execution_count": 33,
   "metadata": {},
   "outputs": [],
   "source": [
    "\n",
    "#  -------Heat or humidity--------\n"
   ]
  },
  {
   "cell_type": "code",
   "execution_count": 34,
   "metadata": {},
   "outputs": [
    {
     "data": {
      "image/png": "[encoded data removed]",
      "text/plain": [
       "<Figure size 432x288 with 2 Axes>"
      ]
     },
     "metadata": {
      "needs_background": "light"
     },
     "output_type": "display_data"
    }
   ],
   "source": [
    "# Resample dew_point_faren and dry_bulb_faren by Month, aggregating the maximum values: monthly_max\n",
    "monthly_max = df_clean[['dew_point_faren','dry_bulb_faren']].resample('M').max()\n",
    "\n",
    "# Generate a histogram with bins=8, alpha=0.5, subplots=True\n",
    "monthly_max.plot(kind='hist', bins=8, alpha=0.5, subplots=True)\n",
    "\n",
    "# Show the plot\n",
    "plt.show()"
   ]
  },
  {
   "cell_type": "code",
   "execution_count": 35,
   "metadata": {},
   "outputs": [],
   "source": [
    "\n",
    "#-------Probability of high temperatures--------"
   ]
  },
  {
   "cell_type": "code",
   "execution_count": 36,
   "metadata": {},
   "outputs": [
    {
     "name": "stdout",
     "output_type": "stream",
     "text": [
      "2011-08-01    103.0\n",
      "2011-08-02    103.0\n",
      "2011-08-03    103.0\n",
      "Freq: D, Name: dry_bulb_faren, dtype: float64\n"
     ]
    },
    {
     "data": {
      "image/png": "[encoded data removed]",
      "text/plain": [
       "<Figure size 432x288 with 1 Axes>"
      ]
     },
     "metadata": {
      "needs_background": "light"
     },
     "output_type": "display_data"
    }
   ],
   "source": [
    "\n",
    "\n",
    "# Resample August 2011 temps in df_clean by day & aggregate the max value: august_2011\n",
    "august_2011 = df_clean.loc['2011-Aug','dry_bulb_faren'].resample('D').max()\n",
    "\n",
    "print(august_2011.head(3))\n",
    "\n",
    "# Construct a CDF of august_2011_high\n",
    "august_2011.plot(kind='hist', density=True, cumulative=True, bins=25)\n",
    "\n",
    "# Display the plot\n",
    "plt.show()"
   ]
  },
  {
   "cell_type": "code",
   "execution_count": null,
   "metadata": {},
   "outputs": [],
   "source": []
  }
 ],
 "metadata": {
  "kernelspec": {
   "display_name": "Python 3",
   "language": "python",
   "name": "python3"
  },
  "language_info": {
   "codemirror_mode": {
    "name": "ipython",
    "version": 3
   },
   "file_extension": ".py",
   "mimetype": "text/x-python",
   "name": "python",
   "nbconvert_exporter": "python",
   "pygments_lexer": "ipython3",
   "version": "3.7.3"
  }
 },
 "nbformat": 4,
 "nbformat_minor": 2
}
